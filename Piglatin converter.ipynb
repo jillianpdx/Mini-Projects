{
 "cells": [
  {
   "cell_type": "code",
   "execution_count": 1,
   "metadata": {
    "collapsed": false
   },
   "outputs": [
    {
     "name": "stdout",
     "output_type": "stream",
     "text": [
      "Using matplotlib backend: MacOSX\n",
      "Populating the interactive namespace from numpy and matplotlib\n"
     ]
    }
   ],
   "source": [
    "%pylab"
   ]
  },
  {
   "cell_type": "code",
   "execution_count": 26,
   "metadata": {
    "collapsed": true
   },
   "outputs": [],
   "source": [
    "inputstring=\"Hello my name is Jillian and I like ice cream\"\n",
    "vowel=['a','e','i','o','u','y']\n",
    "end='ay'"
   ]
  },
  {
   "cell_type": "code",
   "execution_count": 28,
   "metadata": {
    "collapsed": false
   },
   "outputs": [
    {
     "name": "stdout",
     "output_type": "stream",
     "text": [
      "ellohay ymay amenay isay illianjay anday iay ikelay iceay reamcay \n"
     ]
    }
   ],
   "source": [
    "words=inputstring.split() #splits input sentence into words\n",
    "def regtopig(word):\n",
    "    if word[0].lower() in vowel: #checks to see if the first word is a vowel--if so, just attach 'ay' ending\n",
    "        pigword=[word,end]\n",
    "        sent_str=\"\"\n",
    "        for i in pigword: #rejoin letters to form word\n",
    "            sent_str+= i\n",
    "    else:\n",
    "        first=word[0]\n",
    "        pigword=[word[1:],first,end] #rule when the first letter is a consonant\n",
    "        sent_str = \"\"\n",
    "        for i in pigword:\n",
    "            sent_str += i\n",
    "    return sent_str\n",
    "converted=[]\n",
    "for j in words:\n",
    "    converted.append(regtopig(j)) #append back to the converted sentence\n",
    "translated=''\n",
    "for i in converted:\n",
    "    translated += i + ' ' #join sentence back together with spaces\n",
    "translated=translated.lower()\n",
    "print(translated)"
   ]
  },
  {
   "cell_type": "code",
   "execution_count": null,
   "metadata": {
    "collapsed": true
   },
   "outputs": [],
   "source": []
  }
 ],
 "metadata": {
  "kernelspec": {
   "display_name": "Python [default]",
   "language": "python",
   "name": "python2"
  },
  "language_info": {
   "codemirror_mode": {
    "name": "ipython",
    "version": 2
   },
   "file_extension": ".py",
   "mimetype": "text/x-python",
   "name": "python",
   "nbconvert_exporter": "python",
   "pygments_lexer": "ipython2",
   "version": "2.7.12"
  }
 },
 "nbformat": 4,
 "nbformat_minor": 1
}
